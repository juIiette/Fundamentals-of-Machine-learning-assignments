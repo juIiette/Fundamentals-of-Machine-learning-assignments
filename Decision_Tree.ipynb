{
 "cells": [
  {
   "cell_type": "markdown",
   "metadata": {},
   "source": [
    "# Fake tweets prediction: Decision Tree"
   ]
  },
  {
   "cell_type": "markdown",
   "metadata": {},
   "source": [
    "### How can fake tweets be predicted using variables that have been retrieved from text?"
   ]
  },
  {
   "cell_type": "markdown",
   "metadata": {},
   "source": [
    "    In this file, I am going to predict whether a tweet is fake or not by using the decision tree. \n",
    "    We already created a number of variables that will be used for the prediction. \n",
    "    The explanation of these variables can be found in the other file: 'Creating Variables'.\n",
    "    The multiple variables have been created by different group members.\n",
    "    The variables have been put into one dataset for the analysis."
   ]
  },
  {
   "cell_type": "code",
   "execution_count": 160,
   "metadata": {},
   "outputs": [],
   "source": [
    "# Import all the necessary modules\n",
    "\n",
    "import pandas as pd\n",
    "import sklearn as sk\n",
    "from sklearn.model_selection import train_test_split \n",
    "import graphviz\n",
    "from sklearn.tree import export_graphviz \n",
    "from sklearn.tree import DecisionTreeClassifier\n",
    "from sklearn.datasets import load_diabetes\n",
    "from sklearn.model_selection import train_test_split\n",
    "from sklearn.ensemble import BaggingRegressor\n",
    "from sklearn.tree import ExtraTreeRegressor\n",
    "from sklearn import metrics #Import scikit-learn metrics module for accuracy calculation\n",
    "import matplotlib.pyplot as plt\n",
    "import seaborn as sns\n",
    "import matplotlib.pyplot as plt\n",
    "import numpy as np\n",
    "from IPython.display import Image\n",
    "from sklearn.metrics import confusion_matrix\n",
    "from sklearn.metrics import classification_report"
   ]
  },
  {
   "cell_type": "code",
   "execution_count": 135,
   "metadata": {},
   "outputs": [],
   "source": [
    "# Import the csv file\n",
    "\n",
    "df = pd.read_csv(\"TextfeaturesTweets.csv\")"
   ]
  },
  {
   "cell_type": "code",
   "execution_count": 136,
   "metadata": {},
   "outputs": [],
   "source": [
    "# Drop all the columns that will not be used in the decision tree\n",
    "df = df.drop([\"Unnamed: 0\"], axis = 1)"
   ]
  },
  {
   "cell_type": "code",
   "execution_count": 137,
   "metadata": {},
   "outputs": [],
   "source": [
    "# Fill all NaN's with 0's\n",
    "\n",
    "df = df.fillna(0)"
   ]
  },
  {
   "cell_type": "code",
   "execution_count": 169,
   "metadata": {},
   "outputs": [
    {
     "data": {
      "text/html": [
       "<div>\n",
       "<style scoped>\n",
       "    .dataframe tbody tr th:only-of-type {\n",
       "        vertical-align: middle;\n",
       "    }\n",
       "\n",
       "    .dataframe tbody tr th {\n",
       "        vertical-align: top;\n",
       "    }\n",
       "\n",
       "    .dataframe thead th {\n",
       "        text-align: right;\n",
       "    }\n",
       "</style>\n",
       "<table border=\"1\" class=\"dataframe\">\n",
       "  <thead>\n",
       "    <tr style=\"text-align: right;\">\n",
       "      <th></th>\n",
       "      <th>label</th>\n",
       "      <th>PUNCT</th>\n",
       "      <th>DET</th>\n",
       "      <th>PROPN</th>\n",
       "      <th>VERB</th>\n",
       "      <th>AUX</th>\n",
       "      <th>ADP</th>\n",
       "      <th>NOUN</th>\n",
       "      <th>ADJ</th>\n",
       "      <th>PRON</th>\n",
       "      <th>...</th>\n",
       "      <th>^</th>\n",
       "      <th>_</th>\n",
       "      <th>{</th>\n",
       "      <th>}</th>\n",
       "      <th>Uppercase</th>\n",
       "      <th>Lowercase</th>\n",
       "      <th>compound</th>\n",
       "      <th>pos</th>\n",
       "      <th>neg</th>\n",
       "      <th>neu</th>\n",
       "    </tr>\n",
       "  </thead>\n",
       "  <tbody>\n",
       "    <tr>\n",
       "      <th>0</th>\n",
       "      <td>True</td>\n",
       "      <td>4.0</td>\n",
       "      <td>4.0</td>\n",
       "      <td>5.0</td>\n",
       "      <td>2.0</td>\n",
       "      <td>2.0</td>\n",
       "      <td>2.0</td>\n",
       "      <td>2.0</td>\n",
       "      <td>1.0</td>\n",
       "      <td>1.0</td>\n",
       "      <td>...</td>\n",
       "      <td>0.0</td>\n",
       "      <td>0.0</td>\n",
       "      <td>0.0</td>\n",
       "      <td>0.0</td>\n",
       "      <td>6</td>\n",
       "      <td>91</td>\n",
       "      <td>0.4215</td>\n",
       "      <td>0.123</td>\n",
       "      <td>0.0</td>\n",
       "      <td>0.877</td>\n",
       "    </tr>\n",
       "    <tr>\n",
       "      <th>1</th>\n",
       "      <td>True</td>\n",
       "      <td>8.0</td>\n",
       "      <td>1.0</td>\n",
       "      <td>0.0</td>\n",
       "      <td>3.0</td>\n",
       "      <td>0.0</td>\n",
       "      <td>0.0</td>\n",
       "      <td>6.0</td>\n",
       "      <td>2.0</td>\n",
       "      <td>0.0</td>\n",
       "      <td>...</td>\n",
       "      <td>0.0</td>\n",
       "      <td>0.0</td>\n",
       "      <td>0.0</td>\n",
       "      <td>0.0</td>\n",
       "      <td>2</td>\n",
       "      <td>89</td>\n",
       "      <td>0.6369</td>\n",
       "      <td>0.245</td>\n",
       "      <td>0.0</td>\n",
       "      <td>0.755</td>\n",
       "    </tr>\n",
       "    <tr>\n",
       "      <th>2</th>\n",
       "      <td>Fake</td>\n",
       "      <td>3.0</td>\n",
       "      <td>0.0</td>\n",
       "      <td>1.0</td>\n",
       "      <td>0.0</td>\n",
       "      <td>0.0</td>\n",
       "      <td>0.0</td>\n",
       "      <td>0.0</td>\n",
       "      <td>0.0</td>\n",
       "      <td>0.0</td>\n",
       "      <td>...</td>\n",
       "      <td>0.0</td>\n",
       "      <td>0.0</td>\n",
       "      <td>0.0</td>\n",
       "      <td>0.0</td>\n",
       "      <td>6</td>\n",
       "      <td>19</td>\n",
       "      <td>0.0000</td>\n",
       "      <td>0.000</td>\n",
       "      <td>0.0</td>\n",
       "      <td>1.000</td>\n",
       "    </tr>\n",
       "    <tr>\n",
       "      <th>3</th>\n",
       "      <td>Fake</td>\n",
       "      <td>4.0</td>\n",
       "      <td>2.0</td>\n",
       "      <td>2.0</td>\n",
       "      <td>1.0</td>\n",
       "      <td>1.0</td>\n",
       "      <td>2.0</td>\n",
       "      <td>2.0</td>\n",
       "      <td>0.0</td>\n",
       "      <td>2.0</td>\n",
       "      <td>...</td>\n",
       "      <td>0.0</td>\n",
       "      <td>0.0</td>\n",
       "      <td>0.0</td>\n",
       "      <td>0.0</td>\n",
       "      <td>13</td>\n",
       "      <td>40</td>\n",
       "      <td>0.0000</td>\n",
       "      <td>0.000</td>\n",
       "      <td>0.0</td>\n",
       "      <td>1.000</td>\n",
       "    </tr>\n",
       "    <tr>\n",
       "      <th>4</th>\n",
       "      <td>Fake</td>\n",
       "      <td>3.0</td>\n",
       "      <td>0.0</td>\n",
       "      <td>6.0</td>\n",
       "      <td>0.0</td>\n",
       "      <td>1.0</td>\n",
       "      <td>4.0</td>\n",
       "      <td>3.0</td>\n",
       "      <td>0.0</td>\n",
       "      <td>0.0</td>\n",
       "      <td>...</td>\n",
       "      <td>0.0</td>\n",
       "      <td>0.0</td>\n",
       "      <td>0.0</td>\n",
       "      <td>0.0</td>\n",
       "      <td>14</td>\n",
       "      <td>52</td>\n",
       "      <td>0.2732</td>\n",
       "      <td>0.116</td>\n",
       "      <td>0.0</td>\n",
       "      <td>0.884</td>\n",
       "    </tr>\n",
       "  </tbody>\n",
       "</table>\n",
       "<p>5 rows × 80 columns</p>\n",
       "</div>"
      ],
      "text/plain": [
       "  label  PUNCT  DET  PROPN  VERB  AUX  ADP  NOUN  ADJ  PRON  ...    ^    _  \\\n",
       "0  True    4.0  4.0    5.0   2.0  2.0  2.0   2.0  1.0   1.0  ...  0.0  0.0   \n",
       "1  True    8.0  1.0    0.0   3.0  0.0  0.0   6.0  2.0   0.0  ...  0.0  0.0   \n",
       "2  Fake    3.0  0.0    1.0   0.0  0.0  0.0   0.0  0.0   0.0  ...  0.0  0.0   \n",
       "3  Fake    4.0  2.0    2.0   1.0  1.0  2.0   2.0  0.0   2.0  ...  0.0  0.0   \n",
       "4  Fake    3.0  0.0    6.0   0.0  1.0  4.0   3.0  0.0   0.0  ...  0.0  0.0   \n",
       "\n",
       "     {    }  Uppercase  Lowercase  compound    pos  neg    neu  \n",
       "0  0.0  0.0          6         91    0.4215  0.123  0.0  0.877  \n",
       "1  0.0  0.0          2         89    0.6369  0.245  0.0  0.755  \n",
       "2  0.0  0.0          6         19    0.0000  0.000  0.0  1.000  \n",
       "3  0.0  0.0         13         40    0.0000  0.000  0.0  1.000  \n",
       "4  0.0  0.0         14         52    0.2732  0.116  0.0  0.884  \n",
       "\n",
       "[5 rows x 80 columns]"
      ]
     },
     "execution_count": 169,
     "metadata": {},
     "output_type": "execute_result"
    }
   ],
   "source": [
    "# Show the head of the df:\n",
    "\n",
    "df.head()"
   ]
  },
  {
   "cell_type": "code",
   "execution_count": 139,
   "metadata": {},
   "outputs": [
    {
     "data": {
      "text/plain": [
       "0    153462\n",
       "1     71943\n",
       "Name: label, dtype: int64"
      ]
     },
     "execution_count": 139,
     "metadata": {},
     "output_type": "execute_result"
    }
   ],
   "source": [
    "# Count the real and fake tweets\n",
    "\n",
    "df['label'].value_counts()"
   ]
  },
  {
   "cell_type": "markdown",
   "metadata": {},
   "source": [
    "    The dataset contains 153462 fake tweets (labeled: '0') and 71943 real tweets (labeled: '1'). \n",
    "    68% of the tweets are fake."
   ]
  },
  {
   "cell_type": "markdown",
   "metadata": {},
   "source": [
    "## Steps for the correlation matrix"
   ]
  },
  {
   "cell_type": "markdown",
   "metadata": {},
   "source": [
    "### Making the correlation matrix"
   ]
  },
  {
   "cell_type": "code",
   "execution_count": 140,
   "metadata": {},
   "outputs": [],
   "source": [
    "df2 = df.corr()"
   ]
  },
  {
   "cell_type": "markdown",
   "metadata": {},
   "source": [
    "    Now I only select the left row with 'label', because that is where I want to see the correlations for"
   ]
  },
  {
   "cell_type": "code",
   "execution_count": 141,
   "metadata": {},
   "outputs": [],
   "source": [
    "df2 = df2.iloc[ :, 0:1]"
   ]
  },
  {
   "cell_type": "markdown",
   "metadata": {},
   "source": [
    "    I sort the correlation values from high to low. \n",
    "    The negative values have already been assessed, and the lowest negative r-score is -0.209340. \n",
    "    This is not strong enough for a significant correlation. "
   ]
  },
  {
   "cell_type": "code",
   "execution_count": 142,
   "metadata": {},
   "outputs": [
    {
     "data": {
      "text/html": [
       "<div>\n",
       "<style scoped>\n",
       "    .dataframe tbody tr th:only-of-type {\n",
       "        vertical-align: middle;\n",
       "    }\n",
       "\n",
       "    .dataframe tbody tr th {\n",
       "        vertical-align: top;\n",
       "    }\n",
       "\n",
       "    .dataframe thead th {\n",
       "        text-align: right;\n",
       "    }\n",
       "</style>\n",
       "<table border=\"1\" class=\"dataframe\">\n",
       "  <thead>\n",
       "    <tr style=\"text-align: right;\">\n",
       "      <th></th>\n",
       "      <th>label</th>\n",
       "    </tr>\n",
       "  </thead>\n",
       "  <tbody>\n",
       "    <tr>\n",
       "      <th>label</th>\n",
       "      <td>1.000000</td>\n",
       "    </tr>\n",
       "    <tr>\n",
       "      <th>Lowercase</th>\n",
       "      <td>0.528716</td>\n",
       "    </tr>\n",
       "    <tr>\n",
       "      <th>stopwords_count</th>\n",
       "      <td>0.520910</td>\n",
       "    </tr>\n",
       "    <tr>\n",
       "      <th>NOUN</th>\n",
       "      <td>0.499116</td>\n",
       "    </tr>\n",
       "    <tr>\n",
       "      <th>char_count</th>\n",
       "      <td>0.458499</td>\n",
       "    </tr>\n",
       "    <tr>\n",
       "      <th>Syllables</th>\n",
       "      <td>0.419350</td>\n",
       "    </tr>\n",
       "    <tr>\n",
       "      <th>word_count</th>\n",
       "      <td>0.413660</td>\n",
       "    </tr>\n",
       "    <tr>\n",
       "      <th>VERB</th>\n",
       "      <td>0.379499</td>\n",
       "    </tr>\n",
       "    <tr>\n",
       "      <th>DET</th>\n",
       "      <td>0.374545</td>\n",
       "    </tr>\n",
       "    <tr>\n",
       "      <th>ADJ</th>\n",
       "      <td>0.302801</td>\n",
       "    </tr>\n",
       "  </tbody>\n",
       "</table>\n",
       "</div>"
      ],
      "text/plain": [
       "                    label\n",
       "label            1.000000\n",
       "Lowercase        0.528716\n",
       "stopwords_count  0.520910\n",
       "NOUN             0.499116\n",
       "char_count       0.458499\n",
       "Syllables        0.419350\n",
       "word_count       0.413660\n",
       "VERB             0.379499\n",
       "DET              0.374545\n",
       "ADJ              0.302801"
      ]
     },
     "execution_count": 142,
     "metadata": {},
     "output_type": "execute_result"
    }
   ],
   "source": [
    "df2 = df2.sort_values(by = 'label', ascending = False)\n",
    "df2 = df2.iloc[0:10, :]\n",
    "df2"
   ]
  },
  {
   "cell_type": "markdown",
   "metadata": {},
   "source": [
    "### The column above only shows strong or moderate correlations with a score above 0.3"
   ]
  },
  {
   "cell_type": "markdown",
   "metadata": {},
   "source": [
    "    Weak  0.1 < r < 0.3 \n",
    "\n",
    "    Moderate 0.3 < r < 0.6\n",
    "\n",
    "    Strong > 0.6"
   ]
  },
  {
   "cell_type": "markdown",
   "metadata": {},
   "source": [
    "### All of the r-scores are between 0.3 and 0.6, what does this mean?"
   ]
  },
  {
   "cell_type": "markdown",
   "metadata": {},
   "source": [
    "    All of the features in the table are moderately correlated to the variable label. \n",
    "    Later, we will see how these features combined can predict fake tweets.\n",
    "    \n",
    "**Source:**\\\n",
    "(Moore, Notz, & Flinger, 2013)"
   ]
  },
  {
   "cell_type": "markdown",
   "metadata": {},
   "source": [
    "## Plotting the graphs of the 3 strongest correlations\n",
    "    Lowercase, NOUN and stopwords_count have the highest correlations with 0.540601, 0.519353 and 0.498826. \n",
    "    Let's see how these relations will look like in a graph. "
   ]
  },
  {
   "cell_type": "code",
   "execution_count": 143,
   "metadata": {},
   "outputs": [
    {
     "data": {
      "image/png": "[encoded data removed]",
      "text/plain": [
       "<Figure size 432x288 with 1 Axes>"
      ]
     },
     "metadata": {
      "needs_background": "light"
     },
     "output_type": "display_data"
    },
    {
     "data": {
      "image/png": "[encoded data removed]",
      "text/plain": [
       "<Figure size 432x288 with 1 Axes>"
      ]
     },
     "metadata": {
      "needs_background": "light"
     },
     "output_type": "display_data"
    },
    {
     "data": {
      "image/png": "[encoded data removed]",
      "text/plain": [
       "<Figure size 432x288 with 1 Axes>"
      ]
     },
     "metadata": {
      "needs_background": "light"
     },
     "output_type": "display_data"
    }
   ],
   "source": [
    "df['label'].replace(0, 'Fake', inplace=True)\n",
    "df['label'].replace(1, 'True', inplace=True)\n",
    "\n",
    "sns.countplot(x=\"Lowercase\", hue=\"label\", data=df, palette = \"YlGnBu\")\n",
    "x = [10, 20, 30, 40, 50, 60, 70, 80, 90, 100]\n",
    "plt.xticks(np.arange(0, max(x), 10))\n",
    "plt.title('Lowercases in real and fake tweets')\n",
    "plt.ylabel('Number of occurences')\n",
    "plt.xlabel('Number of Lowercases')\n",
    "plt.show()\n",
    "\n",
    "sns.countplot(x=\"NOUN\", hue=\"label\", data=df, palette = \"YlGnBu\")\n",
    "plt.title('Nouns in real and fake tweets')\n",
    "plt.ylabel('Number of occurences')\n",
    "plt.xlabel('Number of Nouns')\n",
    "plt.show()\n",
    "\n",
    "sns.countplot(x=\"stopwords_count\", hue=\"label\", data=df, palette = \"YlGnBu\")\n",
    "plt.title('Stopwords in real and fake tweets')\n",
    "plt.ylabel('Number of occurences')\n",
    "plt.xlabel('Number of Stopwords')\n",
    "plt.show()"
   ]
  },
  {
   "cell_type": "markdown",
   "metadata": {},
   "source": [
    "### The plots can bee seen as following:\n",
    "    The light green color represents fake tweets. \n",
    "    The dark blue color represents real tweets.\n",
    "    On the x-axis, the variables have been displayed.\n",
    "    On the y-axis, the number of occurences is visualised. \n",
    "    For example, in the last graph it is shown that +/- 65000 fake tweets contain 0 stopwords. \n",
    "    \n",
    "#### The first graph:\n",
    "    displays the green color of real tweets more to the right, which stands for number of lowercases.\n",
    "    The blue bars are more on the left, which stands for fake tweets and fewer lowercases.\n",
    "    Most of the real tweets contain more lowercases than the fake tweets. \n",
    "    \n",
    "#### In the second graph:\n",
    "    the blue color stands out on the left side of the graph, which stands for a smaller number of nouns. \n",
    "    The real tweets do not have high bars on that side. \n",
    "    From 4 nouns and upwards, the real and fake tweets are represented more equally. \n",
    "    There are however still more real tweets with 4 or more nouns than fake tweets. \n",
    "    As mentioned before, fake tweets represent 68% of the dataset. \n",
    "    If the fake and real tweets were equally divided, the real tweets would probably stand out more in this \n",
    "    graph on the right side. \n",
    "    \n",
    "#### The last graph: \n",
    "    shows that fake tweets contain fewer stopwords (most common English words) than real tweets. \n",
    "    A large number of fake tweets do not even contain stopword. \n",
    "    If there are few stopwords in a tweet, it is probably fake.\n",
    "    \n",
    "    "
   ]
  },
  {
   "cell_type": "markdown",
   "metadata": {},
   "source": [
    "## No lowercases?    \n",
    "    That is remarkable! Some tweets contain zero lowercases, nouns or stopwords. \n",
    "    Let's investigate this a little bit more..."
   ]
  },
  {
   "cell_type": "code",
   "execution_count": 144,
   "metadata": {},
   "outputs": [
    {
     "data": {
      "text/html": [
       "<div>\n",
       "<style scoped>\n",
       "    .dataframe tbody tr th:only-of-type {\n",
       "        vertical-align: middle;\n",
       "    }\n",
       "\n",
       "    .dataframe tbody tr th {\n",
       "        vertical-align: top;\n",
       "    }\n",
       "\n",
       "    .dataframe thead th {\n",
       "        text-align: right;\n",
       "    }\n",
       "</style>\n",
       "<table border=\"1\" class=\"dataframe\">\n",
       "  <thead>\n",
       "    <tr style=\"text-align: right;\">\n",
       "      <th></th>\n",
       "      <th>label</th>\n",
       "      <th>PUNCT</th>\n",
       "      <th>DET</th>\n",
       "      <th>PROPN</th>\n",
       "      <th>VERB</th>\n",
       "      <th>AUX</th>\n",
       "      <th>ADP</th>\n",
       "      <th>NOUN</th>\n",
       "      <th>ADJ</th>\n",
       "      <th>PRON</th>\n",
       "      <th>...</th>\n",
       "      <th>^</th>\n",
       "      <th>_</th>\n",
       "      <th>{</th>\n",
       "      <th>}</th>\n",
       "      <th>Uppercase</th>\n",
       "      <th>Lowercase</th>\n",
       "      <th>compound</th>\n",
       "      <th>pos</th>\n",
       "      <th>neg</th>\n",
       "      <th>neu</th>\n",
       "    </tr>\n",
       "  </thead>\n",
       "  <tbody>\n",
       "    <tr>\n",
       "      <th>129541</th>\n",
       "      <td>Fake</td>\n",
       "      <td>1.0</td>\n",
       "      <td>0.0</td>\n",
       "      <td>0.0</td>\n",
       "      <td>0.0</td>\n",
       "      <td>0.0</td>\n",
       "      <td>0.0</td>\n",
       "      <td>0.0</td>\n",
       "      <td>0.0</td>\n",
       "      <td>0.0</td>\n",
       "      <td>...</td>\n",
       "      <td>0.0</td>\n",
       "      <td>0.0</td>\n",
       "      <td>0.0</td>\n",
       "      <td>0.0</td>\n",
       "      <td>0</td>\n",
       "      <td>0</td>\n",
       "      <td>0.0000</td>\n",
       "      <td>0.000</td>\n",
       "      <td>0.000</td>\n",
       "      <td>1.00</td>\n",
       "    </tr>\n",
       "    <tr>\n",
       "      <th>143684</th>\n",
       "      <td>Fake</td>\n",
       "      <td>2.0</td>\n",
       "      <td>0.0</td>\n",
       "      <td>9.0</td>\n",
       "      <td>0.0</td>\n",
       "      <td>0.0</td>\n",
       "      <td>0.0</td>\n",
       "      <td>0.0</td>\n",
       "      <td>0.0</td>\n",
       "      <td>0.0</td>\n",
       "      <td>...</td>\n",
       "      <td>0.0</td>\n",
       "      <td>0.0</td>\n",
       "      <td>0.0</td>\n",
       "      <td>0.0</td>\n",
       "      <td>0</td>\n",
       "      <td>0</td>\n",
       "      <td>0.9799</td>\n",
       "      <td>0.427</td>\n",
       "      <td>0.213</td>\n",
       "      <td>0.36</td>\n",
       "    </tr>\n",
       "    <tr>\n",
       "      <th>48192</th>\n",
       "      <td>Fake</td>\n",
       "      <td>2.0</td>\n",
       "      <td>0.0</td>\n",
       "      <td>1.0</td>\n",
       "      <td>0.0</td>\n",
       "      <td>0.0</td>\n",
       "      <td>0.0</td>\n",
       "      <td>0.0</td>\n",
       "      <td>0.0</td>\n",
       "      <td>0.0</td>\n",
       "      <td>...</td>\n",
       "      <td>0.0</td>\n",
       "      <td>0.0</td>\n",
       "      <td>0.0</td>\n",
       "      <td>0.0</td>\n",
       "      <td>9</td>\n",
       "      <td>0</td>\n",
       "      <td>0.0000</td>\n",
       "      <td>0.000</td>\n",
       "      <td>0.000</td>\n",
       "      <td>1.00</td>\n",
       "    </tr>\n",
       "  </tbody>\n",
       "</table>\n",
       "<p>3 rows × 80 columns</p>\n",
       "</div>"
      ],
      "text/plain": [
       "       label  PUNCT  DET  PROPN  VERB  AUX  ADP  NOUN  ADJ  PRON  ...    ^  \\\n",
       "129541  Fake    1.0  0.0    0.0   0.0  0.0  0.0   0.0  0.0   0.0  ...  0.0   \n",
       "143684  Fake    2.0  0.0    9.0   0.0  0.0  0.0   0.0  0.0   0.0  ...  0.0   \n",
       "48192   Fake    2.0  0.0    1.0   0.0  0.0  0.0   0.0  0.0   0.0  ...  0.0   \n",
       "\n",
       "          _    {    }  Uppercase  Lowercase  compound    pos    neg   neu  \n",
       "129541  0.0  0.0  0.0          0          0    0.0000  0.000  0.000  1.00  \n",
       "143684  0.0  0.0  0.0          0          0    0.9799  0.427  0.213  0.36  \n",
       "48192   0.0  0.0  0.0          9          0    0.0000  0.000  0.000  1.00  \n",
       "\n",
       "[3 rows x 80 columns]"
      ]
     },
     "execution_count": 144,
     "metadata": {},
     "output_type": "execute_result"
    }
   ],
   "source": [
    "# Create a dataframe that shows the tweets with the fewest lowercases\n",
    "\n",
    "df3 = df.sort_values(by = 'Lowercase', ascending = True)\n",
    "df3.head(3)"
   ]
  },
  {
   "cell_type": "markdown",
   "metadata": {},
   "source": [
    "    As this dataset unfortuntely does not contain the text of the tweets anymore, \n",
    "    I have looked up the tweets with the least lowercases and appended a screenshot. "
   ]
  },
  {
   "cell_type": "code",
   "execution_count": 145,
   "metadata": {},
   "outputs": [
    {
     "data": {
      "image/png": "[encoded data removed]",
      "text/plain": [
       "<IPython.core.display.Image object>"
      ]
     },
     "execution_count": 145,
     "metadata": {},
     "output_type": "execute_result"
    }
   ],
   "source": [
    "Image(filename='hoi.png')"
   ]
  },
  {
   "cell_type": "markdown",
   "metadata": {},
   "source": [
    "    This retweet only contains a link, so it is correct that it has 0 lowercases as well as 0 uppercases. \n",
    "    The links and retweets have not been included in the counting of the lowercases.\n",
    "    \n",
    "    Let's take a look at number 2 and 3 with 0 lowercases:"
   ]
  },
  {
   "cell_type": "code",
   "execution_count": 146,
   "metadata": {},
   "outputs": [
    {
     "data": {
      "image/png": "[encoded data removed]",
      "text/plain": [
       "<IPython.core.display.Image object>"
      ]
     },
     "execution_count": 146,
     "metadata": {},
     "output_type": "execute_result"
    }
   ],
   "source": [
    "Image(filename='143684.png')"
   ]
  },
  {
   "cell_type": "code",
   "execution_count": 147,
   "metadata": {},
   "outputs": [
    {
     "data": {
      "image/png": "[encoded data removed]",
      "text/plain": [
       "<IPython.core.display.Image object>"
      ]
     },
     "execution_count": 147,
     "metadata": {},
     "output_type": "execute_result"
    }
   ],
   "source": [
    "Image(filename='48192.png')"
   ]
  },
  {
   "cell_type": "markdown",
   "metadata": {},
   "source": [
    "    So if a tweet has no lowercases, it probably contains a link, smileys, or only uppercases. \n",
    "    Now we know that the data is correct. \n",
    "    \n",
    "    This can also explain why there are so many tweets without stopwords or nouns. \n",
    "    Let's just check two more tweets to be sure:"
   ]
  },
  {
   "cell_type": "code",
   "execution_count": 148,
   "metadata": {},
   "outputs": [
    {
     "data": {
      "text/html": [
       "<div>\n",
       "<style scoped>\n",
       "    .dataframe tbody tr th:only-of-type {\n",
       "        vertical-align: middle;\n",
       "    }\n",
       "\n",
       "    .dataframe tbody tr th {\n",
       "        vertical-align: top;\n",
       "    }\n",
       "\n",
       "    .dataframe thead th {\n",
       "        text-align: right;\n",
       "    }\n",
       "</style>\n",
       "<table border=\"1\" class=\"dataframe\">\n",
       "  <thead>\n",
       "    <tr style=\"text-align: right;\">\n",
       "      <th></th>\n",
       "      <th>label</th>\n",
       "      <th>PUNCT</th>\n",
       "      <th>DET</th>\n",
       "      <th>PROPN</th>\n",
       "      <th>VERB</th>\n",
       "      <th>AUX</th>\n",
       "      <th>ADP</th>\n",
       "      <th>NOUN</th>\n",
       "      <th>ADJ</th>\n",
       "      <th>PRON</th>\n",
       "      <th>...</th>\n",
       "      <th>^</th>\n",
       "      <th>_</th>\n",
       "      <th>{</th>\n",
       "      <th>}</th>\n",
       "      <th>Uppercase</th>\n",
       "      <th>Lowercase</th>\n",
       "      <th>compound</th>\n",
       "      <th>pos</th>\n",
       "      <th>neg</th>\n",
       "      <th>neu</th>\n",
       "    </tr>\n",
       "  </thead>\n",
       "  <tbody>\n",
       "    <tr>\n",
       "      <th>225404</th>\n",
       "      <td>Fake</td>\n",
       "      <td>3.0</td>\n",
       "      <td>0.0</td>\n",
       "      <td>10.0</td>\n",
       "      <td>0.0</td>\n",
       "      <td>0.0</td>\n",
       "      <td>4.0</td>\n",
       "      <td>0.0</td>\n",
       "      <td>0.0</td>\n",
       "      <td>0.0</td>\n",
       "      <td>...</td>\n",
       "      <td>0.0</td>\n",
       "      <td>0.0</td>\n",
       "      <td>0.0</td>\n",
       "      <td>0.0</td>\n",
       "      <td>16</td>\n",
       "      <td>70</td>\n",
       "      <td>0.0</td>\n",
       "      <td>0.0</td>\n",
       "      <td>0.0</td>\n",
       "      <td>1.0</td>\n",
       "    </tr>\n",
       "  </tbody>\n",
       "</table>\n",
       "<p>1 rows × 80 columns</p>\n",
       "</div>"
      ],
      "text/plain": [
       "       label  PUNCT  DET  PROPN  VERB  AUX  ADP  NOUN  ADJ  PRON  ...    ^  \\\n",
       "225404  Fake    3.0  0.0   10.0   0.0  0.0  4.0   0.0  0.0   0.0  ...  0.0   \n",
       "\n",
       "          _    {    }  Uppercase  Lowercase  compound  pos  neg  neu  \n",
       "225404  0.0  0.0  0.0         16         70       0.0  0.0  0.0  1.0  \n",
       "\n",
       "[1 rows x 80 columns]"
      ]
     },
     "execution_count": 148,
     "metadata": {},
     "output_type": "execute_result"
    }
   ],
   "source": [
    "# Create a dataframe that shows the tweets with the fewest nouns\n",
    "\n",
    "df4 = df.sort_values(by = 'NOUN', ascending = True)\n",
    "df4.head(1)"
   ]
  },
  {
   "cell_type": "code",
   "execution_count": 149,
   "metadata": {},
   "outputs": [
    {
     "data": {
      "image/png": "[encoded data removed]",
      "text/plain": [
       "<IPython.core.display.Image object>"
      ]
     },
     "execution_count": 149,
     "metadata": {},
     "output_type": "execute_result"
    }
   ],
   "source": [
    "Image(filename='225404.png')"
   ]
  },
  {
   "cell_type": "markdown",
   "metadata": {},
   "source": [
    "    This tweet indeed has no nouns in our dataset. \n",
    "    The dataset we received has incomplete tweets, which is why it's been cut off.\n",
    "    We will later see if it is still usable for predicting fake tweets.\n",
    "    \n",
    "    Now for one more check up, let's look at a tweet with 0 stopwords: "
   ]
  },
  {
   "cell_type": "code",
   "execution_count": 150,
   "metadata": {},
   "outputs": [
    {
     "data": {
      "text/html": [
       "<div>\n",
       "<style scoped>\n",
       "    .dataframe tbody tr th:only-of-type {\n",
       "        vertical-align: middle;\n",
       "    }\n",
       "\n",
       "    .dataframe tbody tr th {\n",
       "        vertical-align: top;\n",
       "    }\n",
       "\n",
       "    .dataframe thead th {\n",
       "        text-align: right;\n",
       "    }\n",
       "</style>\n",
       "<table border=\"1\" class=\"dataframe\">\n",
       "  <thead>\n",
       "    <tr style=\"text-align: right;\">\n",
       "      <th></th>\n",
       "      <th>label</th>\n",
       "      <th>PUNCT</th>\n",
       "      <th>DET</th>\n",
       "      <th>PROPN</th>\n",
       "      <th>VERB</th>\n",
       "      <th>AUX</th>\n",
       "      <th>ADP</th>\n",
       "      <th>NOUN</th>\n",
       "      <th>ADJ</th>\n",
       "      <th>PRON</th>\n",
       "      <th>...</th>\n",
       "      <th>^</th>\n",
       "      <th>_</th>\n",
       "      <th>{</th>\n",
       "      <th>}</th>\n",
       "      <th>Uppercase</th>\n",
       "      <th>Lowercase</th>\n",
       "      <th>compound</th>\n",
       "      <th>pos</th>\n",
       "      <th>neg</th>\n",
       "      <th>neu</th>\n",
       "    </tr>\n",
       "  </thead>\n",
       "  <tbody>\n",
       "    <tr>\n",
       "      <th>225404</th>\n",
       "      <td>Fake</td>\n",
       "      <td>3.0</td>\n",
       "      <td>0.0</td>\n",
       "      <td>10.0</td>\n",
       "      <td>0.0</td>\n",
       "      <td>0.0</td>\n",
       "      <td>4.0</td>\n",
       "      <td>0.0</td>\n",
       "      <td>0.0</td>\n",
       "      <td>0.0</td>\n",
       "      <td>...</td>\n",
       "      <td>0.0</td>\n",
       "      <td>0.0</td>\n",
       "      <td>0.0</td>\n",
       "      <td>0.0</td>\n",
       "      <td>16</td>\n",
       "      <td>70</td>\n",
       "      <td>0.0</td>\n",
       "      <td>0.0</td>\n",
       "      <td>0.0</td>\n",
       "      <td>1.0</td>\n",
       "    </tr>\n",
       "  </tbody>\n",
       "</table>\n",
       "<p>1 rows × 80 columns</p>\n",
       "</div>"
      ],
      "text/plain": [
       "       label  PUNCT  DET  PROPN  VERB  AUX  ADP  NOUN  ADJ  PRON  ...    ^  \\\n",
       "225404  Fake    3.0  0.0   10.0   0.0  0.0  4.0   0.0  0.0   0.0  ...  0.0   \n",
       "\n",
       "          _    {    }  Uppercase  Lowercase  compound  pos  neg  neu  \n",
       "225404  0.0  0.0  0.0         16         70       0.0  0.0  0.0  1.0  \n",
       "\n",
       "[1 rows x 80 columns]"
      ]
     },
     "execution_count": 150,
     "metadata": {},
     "output_type": "execute_result"
    }
   ],
   "source": [
    "# Create a dataframe that shows the tweets with the fewest stopwords\n",
    "\n",
    "df4 = df.sort_values(by = 'stopwords_count', ascending = True)\n",
    "df4.head(1)"
   ]
  },
  {
   "attachments": {},
   "cell_type": "markdown",
   "metadata": {},
   "source": [
    "    This is the same tweet. \n",
    "    This explains why some tweets contain 0 stopwords. "
   ]
  },
  {
   "cell_type": "markdown",
   "metadata": {},
   "source": [
    "# Steps for making the Decision Tree Model:"
   ]
  },
  {
   "cell_type": "markdown",
   "metadata": {},
   "source": [
    "### Splitting the data in test and train data: "
   ]
  },
  {
   "cell_type": "code",
   "execution_count": 151,
   "metadata": {},
   "outputs": [],
   "source": [
    "X = df.iloc[:, 1:] #create the X matrix\n",
    "y = df['label'] #create the y-variable\n",
    "X_train, X_test, y_train, y_test = train_test_split(X, y, test_size=0.3, random_state=1) #split the data, store it into different variables"
   ]
  },
  {
   "cell_type": "markdown",
   "metadata": {},
   "source": [
    "### Creating the decision tree:"
   ]
  },
  {
   "cell_type": "code",
   "execution_count": 152,
   "metadata": {},
   "outputs": [],
   "source": [
    "dtree = DecisionTreeClassifier() #create the tree\n",
    "dtree = dtree.fit(X_train, y_train) #fit the tree with the train data"
   ]
  },
  {
   "cell_type": "markdown",
   "metadata": {},
   "source": [
    "### Measuring the accuracy:"
   ]
  },
  {
   "cell_type": "code",
   "execution_count": 153,
   "metadata": {},
   "outputs": [
    {
     "name": "stdout",
     "output_type": "stream",
     "text": [
      "Accuracy for Decision Tree: 0.9731891987814617\n"
     ]
    }
   ],
   "source": [
    "y_pred = dtree.predict(X_test)\n",
    "print(\"Accuracy for Decision Tree:\",metrics.accuracy_score(y_test, y_pred))"
   ]
  },
  {
   "cell_type": "markdown",
   "metadata": {},
   "source": [
    "    As mentioned before, the prediction of a tweet as fake would be accurate in 68% of the times. \n",
    "\n",
    "    The accuracy for the Decision Tree is 97% procent, which is a lot higher.\n",
    "    This means that in 97% of the cases the tweet is predicted correctly.\n",
    "    It is a very precise prediction for tweets.\n",
    "    \n",
    "**Source:**\\\n",
    "(ISO 5725-2, 1994)"
   ]
  },
  {
   "cell_type": "markdown",
   "metadata": {},
   "source": [
    "### Visualising the tree"
   ]
  },
  {
   "cell_type": "markdown",
   "metadata": {},
   "source": [
    "    The decision tree will be pruned. \n",
    "    The pruned model below is less complex, more explainable, and easier to understand than the visualised  \n",
    "    entire decision tree.\n",
    "    \n",
    "    The model will take all variables into account and decide for itself which ones are the most usable. \n"
   ]
  },
  {
   "cell_type": "code",
   "execution_count": 154,
   "metadata": {},
   "outputs": [
    {
     "data": {
      "image/svg+xml": [
       "<?xml version=\"1.0\" encoding=\"UTF-8\" standalone=\"no\"?>\n",
       "<!DOCTYPE svg PUBLIC \"-//W3C//DTD SVG 1.1//EN\"\n",
       " \"http://www.w3.org/Graphics/SVG/1.1/DTD/svg11.dtd\">\n",
       "<!-- Generated by graphviz version 2.40.1 (20161225.0304)\n",
       " -->\n",
       "<!-- Title: Tree Pages: 1 -->\n",
       "<svg width=\"520pt\" height=\"338pt\"\n",
       " viewBox=\"0.00 0.00 520.00 338.00\" xmlns=\"http://www.w3.org/2000/svg\" xmlns:xlink=\"http://www.w3.org/1999/xlink\">\n",
       "<g id=\"graph0\" class=\"graph\" transform=\"scale(1 1) rotate(0) translate(4 334)\">\n",
       "<title>Tree</title>\n",
       "<polygon fill=\"#ffffff\" stroke=\"transparent\" points=\"-4,4 -4,-334 516,-334 516,4 -4,4\"/>\n",
       "<!-- 0 -->\n",
       "<g id=\"node1\" class=\"node\">\n",
       "<title>0</title>\n",
       "<path fill=\"#f1bc96\" stroke=\"#000000\" d=\"M124,-207.5C124,-207.5 12,-207.5 12,-207.5 6,-207.5 0,-201.5 0,-195.5 0,-195.5 0,-136.5 0,-136.5 0,-130.5 6,-124.5 12,-124.5 12,-124.5 124,-124.5 124,-124.5 130,-124.5 136,-130.5 136,-136.5 136,-136.5 136,-195.5 136,-195.5 136,-201.5 130,-207.5 124,-207.5\"/>\n",
       "<text text-anchor=\"middle\" x=\"68\" y=\"-192.3\" font-family=\"Helvetica,sans-Serif\" font-size=\"14.00\" fill=\"#000000\">Lowercase &lt;= 78.5</text>\n",
       "<text text-anchor=\"middle\" x=\"68\" y=\"-177.3\" font-family=\"Helvetica,sans-Serif\" font-size=\"14.00\" fill=\"#000000\">gini = 0.435</text>\n",
       "<text text-anchor=\"middle\" x=\"68\" y=\"-162.3\" font-family=\"Helvetica,sans-Serif\" font-size=\"14.00\" fill=\"#000000\">samples = 100.0%</text>\n",
       "<text text-anchor=\"middle\" x=\"68\" y=\"-147.3\" font-family=\"Helvetica,sans-Serif\" font-size=\"14.00\" fill=\"#000000\">value = [0.68, 0.32]</text>\n",
       "<text text-anchor=\"middle\" x=\"68\" y=\"-132.3\" font-family=\"Helvetica,sans-Serif\" font-size=\"14.00\" fill=\"#000000\">class = Fake</text>\n",
       "</g>\n",
       "<!-- 1 -->\n",
       "<g id=\"node2\" class=\"node\">\n",
       "<title>1</title>\n",
       "<path fill=\"#e9975b\" stroke=\"#000000\" d=\"M312,-258.5C312,-258.5 184,-258.5 184,-258.5 178,-258.5 172,-252.5 172,-246.5 172,-246.5 172,-187.5 172,-187.5 172,-181.5 178,-175.5 184,-175.5 184,-175.5 312,-175.5 312,-175.5 318,-175.5 324,-181.5 324,-187.5 324,-187.5 324,-246.5 324,-246.5 324,-252.5 318,-258.5 312,-258.5\"/>\n",
       "<text text-anchor=\"middle\" x=\"248\" y=\"-243.3\" font-family=\"Helvetica,sans-Serif\" font-size=\"14.00\" fill=\"#000000\">NOUN &lt;= 1.5</text>\n",
       "<text text-anchor=\"middle\" x=\"248\" y=\"-228.3\" font-family=\"Helvetica,sans-Serif\" font-size=\"14.00\" fill=\"#000000\">gini = 0.251</text>\n",
       "<text text-anchor=\"middle\" x=\"248\" y=\"-213.3\" font-family=\"Helvetica,sans-Serif\" font-size=\"14.00\" fill=\"#000000\">samples = 74.7%</text>\n",
       "<text text-anchor=\"middle\" x=\"248\" y=\"-198.3\" font-family=\"Helvetica,sans-Serif\" font-size=\"14.00\" fill=\"#000000\">value = [0.853, 0.147]</text>\n",
       "<text text-anchor=\"middle\" x=\"248\" y=\"-183.3\" font-family=\"Helvetica,sans-Serif\" font-size=\"14.00\" fill=\"#000000\">class = Fake</text>\n",
       "</g>\n",
       "<!-- 0&#45;&gt;1 -->\n",
       "<g id=\"edge1\" class=\"edge\">\n",
       "<title>0&#45;&gt;1</title>\n",
       "<path fill=\"none\" stroke=\"#000000\" d=\"M136.0503,-185.2809C144.5133,-187.6788 153.2522,-190.1548 161.9419,-192.6169\"/>\n",
       "<polygon fill=\"#000000\" stroke=\"#000000\" points=\"161.1394,-196.0272 171.7148,-195.3858 163.0476,-189.2923 161.1394,-196.0272\"/>\n",
       "<text text-anchor=\"middle\" x=\"149.8876\" y=\"-203.875\" font-family=\"Helvetica,sans-Serif\" font-size=\"14.00\" fill=\"#000000\">True</text>\n",
       "</g>\n",
       "<!-- 4 -->\n",
       "<g id=\"node5\" class=\"node\">\n",
       "<title>4</title>\n",
       "<path fill=\"#61b1ea\" stroke=\"#000000\" d=\"M312,-157.5C312,-157.5 184,-157.5 184,-157.5 178,-157.5 172,-151.5 172,-145.5 172,-145.5 172,-86.5 172,-86.5 172,-80.5 178,-74.5 184,-74.5 184,-74.5 312,-74.5 312,-74.5 318,-74.5 324,-80.5 324,-86.5 324,-86.5 324,-145.5 324,-145.5 324,-151.5 318,-157.5 312,-157.5\"/>\n",
       "<text text-anchor=\"middle\" x=\"248\" y=\"-142.3\" font-family=\"Helvetica,sans-Serif\" font-size=\"14.00\" fill=\"#000000\">char_count &lt;= 119.5</text>\n",
       "<text text-anchor=\"middle\" x=\"248\" y=\"-127.3\" font-family=\"Helvetica,sans-Serif\" font-size=\"14.00\" fill=\"#000000\">gini = 0.279</text>\n",
       "<text text-anchor=\"middle\" x=\"248\" y=\"-112.3\" font-family=\"Helvetica,sans-Serif\" font-size=\"14.00\" fill=\"#000000\">samples = 25.3%</text>\n",
       "<text text-anchor=\"middle\" x=\"248\" y=\"-97.3\" font-family=\"Helvetica,sans-Serif\" font-size=\"14.00\" fill=\"#000000\">value = [0.167, 0.833]</text>\n",
       "<text text-anchor=\"middle\" x=\"248\" y=\"-82.3\" font-family=\"Helvetica,sans-Serif\" font-size=\"14.00\" fill=\"#000000\">class = True</text>\n",
       "</g>\n",
       "<!-- 0&#45;&gt;4 -->\n",
       "<g id=\"edge4\" class=\"edge\">\n",
       "<title>0&#45;&gt;4</title>\n",
       "<path fill=\"none\" stroke=\"#000000\" d=\"M136.0503,-147.0971C144.5133,-144.7463 153.2522,-142.3188 161.9419,-139.905\"/>\n",
       "<polygon fill=\"#000000\" stroke=\"#000000\" points=\"163.0164,-143.2392 171.7148,-137.1903 161.1428,-136.4945 163.0164,-143.2392\"/>\n",
       "<text text-anchor=\"middle\" x=\"149.9507\" y=\"-121.1889\" font-family=\"Helvetica,sans-Serif\" font-size=\"14.00\" fill=\"#000000\">False</text>\n",
       "</g>\n",
       "<!-- 2 -->\n",
       "<g id=\"node3\" class=\"node\">\n",
       "<title>2</title>\n",
       "<path fill=\"#e78946\" stroke=\"#000000\" d=\"M500,-330C500,-330 372,-330 372,-330 366,-330 360,-324 360,-318 360,-318 360,-274 360,-274 360,-268 366,-262 372,-262 372,-262 500,-262 500,-262 506,-262 512,-268 512,-274 512,-274 512,-318 512,-318 512,-324 506,-330 500,-330\"/>\n",
       "<text text-anchor=\"middle\" x=\"436\" y=\"-314.8\" font-family=\"Helvetica,sans-Serif\" font-size=\"14.00\" fill=\"#000000\">gini = 0.115</text>\n",
       "<text text-anchor=\"middle\" x=\"436\" y=\"-299.8\" font-family=\"Helvetica,sans-Serif\" font-size=\"14.00\" fill=\"#000000\">samples = 42.2%</text>\n",
       "<text text-anchor=\"middle\" x=\"436\" y=\"-284.8\" font-family=\"Helvetica,sans-Serif\" font-size=\"14.00\" fill=\"#000000\">value = [0.939, 0.061]</text>\n",
       "<text text-anchor=\"middle\" x=\"436\" y=\"-269.8\" font-family=\"Helvetica,sans-Serif\" font-size=\"14.00\" fill=\"#000000\">class = Fake</text>\n",
       "</g>\n",
       "<!-- 1&#45;&gt;2 -->\n",
       "<g id=\"edge2\" class=\"edge\">\n",
       "<title>1&#45;&gt;2</title>\n",
       "<path fill=\"none\" stroke=\"#000000\" d=\"M324.1958,-249.0184C332.7917,-252.6306 341.5938,-256.3293 350.3002,-259.9879\"/>\n",
       "<polygon fill=\"#000000\" stroke=\"#000000\" points=\"349.1207,-263.2886 359.6957,-263.936 351.8325,-256.8352 349.1207,-263.2886\"/>\n",
       "</g>\n",
       "<!-- 3 -->\n",
       "<g id=\"node4\" class=\"node\">\n",
       "<title>3</title>\n",
       "<path fill=\"#eead7e\" stroke=\"#000000\" d=\"M500,-244C500,-244 372,-244 372,-244 366,-244 360,-238 360,-232 360,-232 360,-188 360,-188 360,-182 366,-176 372,-176 372,-176 500,-176 500,-176 506,-176 512,-182 512,-188 512,-188 512,-232 512,-232 512,-238 506,-244 500,-244\"/>\n",
       "<text text-anchor=\"middle\" x=\"436\" y=\"-228.8\" font-family=\"Helvetica,sans-Serif\" font-size=\"14.00\" fill=\"#000000\">gini = 0.383</text>\n",
       "<text text-anchor=\"middle\" x=\"436\" y=\"-213.8\" font-family=\"Helvetica,sans-Serif\" font-size=\"14.00\" fill=\"#000000\">samples = 32.6%</text>\n",
       "<text text-anchor=\"middle\" x=\"436\" y=\"-198.8\" font-family=\"Helvetica,sans-Serif\" font-size=\"14.00\" fill=\"#000000\">value = [0.742, 0.258]</text>\n",
       "<text text-anchor=\"middle\" x=\"436\" y=\"-183.8\" font-family=\"Helvetica,sans-Serif\" font-size=\"14.00\" fill=\"#000000\">class = Fake</text>\n",
       "</g>\n",
       "<!-- 1&#45;&gt;3 -->\n",
       "<g id=\"edge3\" class=\"edge\">\n",
       "<title>1&#45;&gt;3</title>\n",
       "<path fill=\"none\" stroke=\"#000000\" d=\"M324.1958,-214.1629C332.5174,-213.8531 341.0322,-213.536 349.4663,-213.222\"/>\n",
       "<polygon fill=\"#000000\" stroke=\"#000000\" points=\"349.8329,-216.7109 359.6957,-212.8411 349.5724,-209.7157 349.8329,-216.7109\"/>\n",
       "</g>\n",
       "<!-- 5 -->\n",
       "<g id=\"node6\" class=\"node\">\n",
       "<title>5</title>\n",
       "<path fill=\"#a6d3f3\" stroke=\"#000000\" d=\"M500,-154C500,-154 372,-154 372,-154 366,-154 360,-148 360,-142 360,-142 360,-98 360,-98 360,-92 366,-86 372,-86 372,-86 500,-86 500,-86 506,-86 512,-92 512,-98 512,-98 512,-142 512,-142 512,-148 506,-154 500,-154\"/>\n",
       "<text text-anchor=\"middle\" x=\"436\" y=\"-138.8\" font-family=\"Helvetica,sans-Serif\" font-size=\"14.00\" fill=\"#000000\">gini = 0.457</text>\n",
       "<text text-anchor=\"middle\" x=\"436\" y=\"-123.8\" font-family=\"Helvetica,sans-Serif\" font-size=\"14.00\" fill=\"#000000\">samples = 6.3%</text>\n",
       "<text text-anchor=\"middle\" x=\"436\" y=\"-108.8\" font-family=\"Helvetica,sans-Serif\" font-size=\"14.00\" fill=\"#000000\">value = [0.354, 0.646]</text>\n",
       "<text text-anchor=\"middle\" x=\"436\" y=\"-93.8\" font-family=\"Helvetica,sans-Serif\" font-size=\"14.00\" fill=\"#000000\">class = True</text>\n",
       "</g>\n",
       "<!-- 4&#45;&gt;5 -->\n",
       "<g id=\"edge5\" class=\"edge\">\n",
       "<title>4&#45;&gt;5</title>\n",
       "<path fill=\"none\" stroke=\"#000000\" d=\"M324.1958,-117.6212C332.5174,-117.7982 341.0322,-117.9794 349.4663,-118.1589\"/>\n",
       "<polygon fill=\"#000000\" stroke=\"#000000\" points=\"349.6235,-121.6629 359.6957,-118.3765 349.7725,-114.6645 349.6235,-121.6629\"/>\n",
       "</g>\n",
       "<!-- 6 -->\n",
       "<g id=\"node7\" class=\"node\">\n",
       "<title>6</title>\n",
       "<path fill=\"#50a9e8\" stroke=\"#000000\" d=\"M500,-68C500,-68 372,-68 372,-68 366,-68 360,-62 360,-56 360,-56 360,-12 360,-12 360,-6 366,0 372,0 372,0 500,0 500,0 506,0 512,-6 512,-12 512,-12 512,-56 512,-56 512,-62 506,-68 500,-68\"/>\n",
       "<text text-anchor=\"middle\" x=\"436\" y=\"-52.8\" font-family=\"Helvetica,sans-Serif\" font-size=\"14.00\" fill=\"#000000\">gini = 0.189</text>\n",
       "<text text-anchor=\"middle\" x=\"436\" y=\"-37.8\" font-family=\"Helvetica,sans-Serif\" font-size=\"14.00\" fill=\"#000000\">samples = 19.0%</text>\n",
       "<text text-anchor=\"middle\" x=\"436\" y=\"-22.8\" font-family=\"Helvetica,sans-Serif\" font-size=\"14.00\" fill=\"#000000\">value = [0.106, 0.894]</text>\n",
       "<text text-anchor=\"middle\" x=\"436\" y=\"-7.8\" font-family=\"Helvetica,sans-Serif\" font-size=\"14.00\" fill=\"#000000\">class = True</text>\n",
       "</g>\n",
       "<!-- 4&#45;&gt;6 -->\n",
       "<g id=\"edge6\" class=\"edge\">\n",
       "<title>4&#45;&gt;6</title>\n",
       "<path fill=\"none\" stroke=\"#000000\" d=\"M324.1958,-82.7657C332.7917,-79.0164 341.5938,-75.1772 350.3002,-71.3797\"/>\n",
       "<polygon fill=\"#000000\" stroke=\"#000000\" points=\"351.929,-74.4878 359.6957,-67.2817 349.1304,-68.0715 351.929,-74.4878\"/>\n",
       "</g>\n",
       "</g>\n",
       "</svg>\n"
      ],
      "text/plain": [
       "<graphviz.files.Source at 0x7fc667572be0>"
      ]
     },
     "execution_count": 154,
     "metadata": {},
     "output_type": "execute_result"
    }
   ],
   "source": [
    "dtree = DecisionTreeClassifier(max_depth=2) #create the tree with max_depth = 2\n",
    "dtree = dtree.fit(X_train, y_train) #fit the tree with the train data\n",
    "\n",
    "\n",
    "graph_data = export_graphviz(dtree, out_file=None,\n",
    "                      feature_names=X.columns.values, \n",
    "                      filled=True, rounded=True,\n",
    "                             rotate = True,\n",
    "                             proportion = True,\n",
    "                      class_names=[\n",
    "                        \"Fake\",\n",
    "                          'True'])\n",
    "\n",
    "\n",
    "graph = graphviz.Source(graph_data) \n",
    "graph "
   ]
  },
  {
   "cell_type": "markdown",
   "metadata": {},
   "source": [
    "### Explaining the Decision Tree:"
   ]
  },
  {
   "cell_type": "markdown",
   "metadata": {},
   "source": [
    "\n",
    "#### On the first line:\n",
    "    The condition on which to split the node to the next branch.\n",
    "    A distinction is made in the first node whether a tweet contains less than or more than 78.5 lowercases.\n",
    "    \n",
    "#### On the second line: \n",
    "    The gini coefficient, a measure for the \"impurity\" of the node. The higher, the more \"impure\".\n",
    "    \n",
    "#### On the third line: \n",
    "    The percentage of cases left.\n",
    "    After splitting the tweets on Lowercases, 74.7% of the tweets had more and 25.3% of the tweets had less than\n",
    "    the set number of lowercases.\n",
    "    \n",
    "#### On the fourth line: \n",
    "    The counts per category in the following order: Fake or True\n",
    "    The first box, it says [0.68, 0.32] which means that 68% of the tweets are fake.\n",
    "    We have seen this before in the calculation.\n",
    "    \n",
    "#### On the fifth line: \n",
    "    The most frequent category in the node is shown.\n",
    "    \n",
    "#### Follow a path....\n",
    "    So if a tweet has a small number of lowercases (go up),\n",
    "    and less than 1.5 nouns (go up), \n",
    "    the tweet is in 93.9% of the cases fake!\n",
    "    \n",
    "    \n",
    "**Source:**\\\n",
    "(Ceballos, 2019)"
   ]
  },
  {
   "cell_type": "markdown",
   "metadata": {},
   "source": [
    "# Evaluation of classification"
   ]
  },
  {
   "cell_type": "markdown",
   "metadata": {},
   "source": [
    "    To evaluate the model I use the standard approach for a classification problem: \n",
    "    making a confusion matrix and calculating accuracy, precision and recall."
   ]
  },
  {
   "cell_type": "code",
   "execution_count": 159,
   "metadata": {},
   "outputs": [
    {
     "data": {
      "text/html": [
       "<div>\n",
       "<style scoped>\n",
       "    .dataframe tbody tr th:only-of-type {\n",
       "        vertical-align: middle;\n",
       "    }\n",
       "\n",
       "    .dataframe tbody tr th {\n",
       "        vertical-align: top;\n",
       "    }\n",
       "\n",
       "    .dataframe thead th {\n",
       "        text-align: right;\n",
       "    }\n",
       "</style>\n",
       "<table border=\"1\" class=\"dataframe\">\n",
       "  <thead>\n",
       "    <tr style=\"text-align: right;\">\n",
       "      <th></th>\n",
       "      <th>Fake tweets (pred)</th>\n",
       "      <th>Real tweets (pred)</th>\n",
       "    </tr>\n",
       "  </thead>\n",
       "  <tbody>\n",
       "    <tr>\n",
       "      <th>Fake tweets (actual)</th>\n",
       "      <td>43308</td>\n",
       "      <td>2914</td>\n",
       "    </tr>\n",
       "    <tr>\n",
       "      <th>Real tweets (actual)</th>\n",
       "      <td>7333</td>\n",
       "      <td>14067</td>\n",
       "    </tr>\n",
       "  </tbody>\n",
       "</table>\n",
       "</div>"
      ],
      "text/plain": [
       "                      Fake tweets (pred)  Real tweets (pred)\n",
       "Fake tweets (actual)               43308                2914\n",
       "Real tweets (actual)                7333               14067"
      ]
     },
     "execution_count": 159,
     "metadata": {},
     "output_type": "execute_result"
    }
   ],
   "source": [
    "y_pred = dtree.predict(X_test) #the predicted values\n",
    "cm = confusion_matrix(y_test, y_pred) #creates a \"confusion matrix\"\n",
    "cm = pd.DataFrame(cm, index=['Fake tweets (actual)', 'Real tweets (actual)'], columns = ['Fake tweets (pred)', 'Real tweets (pred)']) #label and make df\n",
    "cm"
   ]
  },
  {
   "cell_type": "markdown",
   "metadata": {},
   "source": [
    "    \n",
    "     Let's calculate some numbers using a classification_report."
   ]
  },
  {
   "cell_type": "markdown",
   "metadata": {},
   "source": [
    "    I am creating a new Decision tree with all the branches, so max_depth is being removed.\n",
    "    This increases both precision and recall with respectively 12 and 30 percent."
   ]
  },
  {
   "cell_type": "code",
   "execution_count": 164,
   "metadata": {},
   "outputs": [
    {
     "name": "stdout",
     "output_type": "stream",
     "text": [
      "              precision    recall  f1-score   support\n",
      "\n",
      "        Fake       0.98      0.98      0.98     46222\n",
      "        True       0.96      0.96      0.96     21400\n",
      "\n",
      "    accuracy                           0.97     67622\n",
      "   macro avg       0.97      0.97      0.97     67622\n",
      "weighted avg       0.97      0.97      0.97     67622\n",
      "\n"
     ]
    }
   ],
   "source": [
    "dtreenew = DecisionTreeClassifier() \n",
    "\n",
    "dtreenew = dtreenew.fit(X_train, y_train)\n",
    "y_pred_new = dtreenew.predict(X_test) #the predicted values\n",
    "print(classification_report(y_test, y_pred_new))"
   ]
  },
  {
   "cell_type": "markdown",
   "metadata": {},
   "source": [
    "\n",
    "    The precision for fake tweets is very good (very close to 1): \n",
    "    about 2% of the suspected fake tweets turn out to be real.\n",
    "    \n",
    "    The recall is good as well.\n",
    "    We only miss about 4% of the fake tweets.\n",
    "    \n",
    "    As both the precision and recall are very accurate, \n",
    "    this model could very well be used for predicting fake tweets. \n",
    "    \n",
    "    \n",
    "    If Twitter wants to sample tweets for the filter, \n",
    "    so for example 1 in 10 tweets have to go through the algorithm,\n",
    "    it would be advisable to increase that number by 2 in 10 tweets. \n",
    "    \n",
    "    That way the recall would be even higher, \n",
    "    and a smaller percentage of the fake tweets are missed.\n",
    "    \n",
    "**Source:**\\\n",
    "(Powers, 2020)"
   ]
  },
  {
   "cell_type": "markdown",
   "metadata": {},
   "source": [
    "# Bibliography: \n",
    "\n",
    "Ceballos, F. (2019). Scikit-Learn Decision Trees Explained. Retrieved 22 January 2021, from https://towardsdatascience.com/scikit-learn-decision-trees-explained-803f3812290d\n",
    "\n",
    "\n",
    "ISO 5725-2. (1994). Accuracy (trueness and precision) of measurement methods and results-Part 1: General principles and definitions. p.1 (1994)\n",
    "\n",
    "\n",
    "Moore, D. S., Notz, W. I, & Flinger, M. A. (2013). The basic practice of statistics (6th ed.). New York, NY: W. H. Freeman and Company.\n",
    "\n",
    "Powers, D. M. (2020). Evaluation: from precision, recall and F-measure to ROC, informedness, markedness and correlation. arXiv preprint arXiv:2010.16061.\n",
    "    "
   ]
  }
 ],
 "metadata": {
  "kernelspec": {
   "display_name": "Python 3",
   "language": "python",
   "name": "python3"
  },
  "language_info": {
   "codemirror_mode": {
    "name": "ipython",
    "version": 3
   },
   "file_extension": ".py",
   "mimetype": "text/x-python",
   "name": "python",
   "nbconvert_exporter": "python",
   "pygments_lexer": "ipython3",
   "version": "3.8.2"
  }
 },
 "nbformat": 4,
 "nbformat_minor": 4
}
